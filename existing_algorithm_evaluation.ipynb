{
  "nbformat": 4,
  "nbformat_minor": 0,
  "metadata": {
    "colab": {
      "provenance": [],
      "authorship_tag": "ABX9TyNGLEola5JuqEIweDKjOx9k",
      "include_colab_link": true
    },
    "kernelspec": {
      "name": "python3",
      "display_name": "Python 3"
    },
    "language_info": {
      "name": "python"
    }
  },
  "cells": [
    {
      "cell_type": "markdown",
      "metadata": {
        "id": "view-in-github",
        "colab_type": "text"
      },
      "source": [
        "<a href=\"https://colab.research.google.com/github/supun-kanda/advanced-cache-replacement/blob/main/existing_algorithm_evaluation.ipynb\" target=\"_parent\"><img src=\"https://colab.research.google.com/assets/colab-badge.svg\" alt=\"Open In Colab\"/></a>"
      ]
    },
    {
      "cell_type": "code",
      "source": [
        "import pandas as pd"
      ],
      "metadata": {
        "id": "FK-NEtONJaJ3"
      },
      "execution_count": null,
      "outputs": []
    },
    {
      "cell_type": "markdown",
      "source": [
        "Datasets\n",
        "1.   Caffiene Block cache trace: web07 (uploaded)\n",
        "2.   Twitter Cluster based file cache: cluster052\n",
        "\n",
        "\n"
      ],
      "metadata": {
        "id": "rT5oguciJzJ0"
      }
    },
    {
      "cell_type": "code",
      "source": [
        "path_web07 = '/content/web07.trace'\n",
        "path_cluster052 = 'https://raw.githubusercontent.com/twitter/cache-trace/master/samples/2020Mar/cluster052'"
      ],
      "metadata": {
        "id": "0HTl-3BgJ_hJ"
      },
      "execution_count": null,
      "outputs": []
    },
    {
      "cell_type": "markdown",
      "source": [
        "Load web07 cache"
      ],
      "metadata": {
        "id": "gSKGI-WnI3wN"
      }
    },
    {
      "cell_type": "code",
      "source": [
        "with open(path_web07, 'rb') as file:\n",
        "    data = file.read(4) # integer = 4 x bytes\n",
        "    web07 = []\n",
        "    while data:\n",
        "      web07.append(int.from_bytes(data, \"big\"))\n",
        "      data = file.read(4)"
      ],
      "metadata": {
        "id": "IECm1uVHJZFt"
      },
      "execution_count": null,
      "outputs": []
    },
    {
      "cell_type": "markdown",
      "source": [
        "Block Cache Dataset Totals Keys vs Unique Keys"
      ],
      "metadata": {
        "id": "3vkX0dPwKzZz"
      }
    },
    {
      "cell_type": "code",
      "source": [
        "print(len(web07),'->',len(set(web07)))"
      ],
      "metadata": {
        "colab": {
          "base_uri": "https://localhost:8080/"
        },
        "id": "laIEr-MBKyDF",
        "outputId": "78727547-71a4-44fd-cb7a-30ebfe370020"
      },
      "execution_count": null,
      "outputs": [
        {
          "output_type": "stream",
          "name": "stdout",
          "text": [
            "76118 -> 20484\n"
          ]
        }
      ]
    },
    {
      "cell_type": "code",
      "source": [
        "\n",
        "columns=['time','key','key_size','value_size','client_id','operation','TTL']\n",
        "cluster052 = pd.read_csv(path_cluster052, sep=',', on_bad_lines='skip', names=columns)"
      ],
      "metadata": {
        "id": "CCF7NJ2AJCoo"
      },
      "execution_count": null,
      "outputs": []
    },
    {
      "cell_type": "markdown",
      "source": [
        "Page Cache Dataset Totals Keys vs Unique Keys"
      ],
      "metadata": {
        "id": "XNG_Q5nfLgyA"
      }
    },
    {
      "cell_type": "code",
      "source": [
        "print(cluster052['key'].count(),'->',cluster052['key'].unique().size)"
      ],
      "metadata": {
        "colab": {
          "base_uri": "https://localhost:8080/"
        },
        "id": "Lwh2YOfULSP1",
        "outputId": "2f5604f0-23a8-455a-cd09-9ae39dc41dd3"
      },
      "execution_count": null,
      "outputs": [
        {
          "output_type": "stream",
          "name": "stdout",
          "text": [
            "1000000 -> 255333\n"
          ]
        }
      ]
    }
  ]
}