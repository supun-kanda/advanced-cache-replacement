{
  "nbformat": 4,
  "nbformat_minor": 0,
  "metadata": {
    "colab": {
      "provenance": [],
      "authorship_tag": "ABX9TyPdxJhzZ4/zbqBgrK7XFtzY",
      "include_colab_link": true
    },
    "kernelspec": {
      "name": "python3",
      "display_name": "Python 3"
    },
    "language_info": {
      "name": "python"
    }
  },
  "cells": [
    {
      "cell_type": "markdown",
      "metadata": {
        "id": "view-in-github",
        "colab_type": "text"
      },
      "source": [
        "<a href=\"https://colab.research.google.com/github/supun-kanda/advanced-cache-replacement/blob/main/existing_algorithm_evaluation.ipynb\" target=\"_parent\"><img src=\"https://colab.research.google.com/assets/colab-badge.svg\" alt=\"Open In Colab\"/></a>"
      ]
    },
    {
      "cell_type": "code",
      "source": [
        "import pandas as pd"
      ],
      "metadata": {
        "id": "FK-NEtONJaJ3"
      },
      "execution_count": 1,
      "outputs": []
    },
    {
      "cell_type": "markdown",
      "source": [
        "Datasets\n",
        "1.   Caffiene Block cache trace: web07 (uploaded)\n",
        "2.   Twitter Cluster based file cache: cluster052\n",
        "\n",
        "\n"
      ],
      "metadata": {
        "id": "rT5oguciJzJ0"
      }
    },
    {
      "cell_type": "code",
      "source": [
        "path_web07 = '/content/web07.trace'\n",
        "path_web12 = '/content/web12.trace'\n",
        "path_cluster052 = 'https://raw.githubusercontent.com/twitter/cache-trace/master/samples/2020Mar/cluster052'"
      ],
      "metadata": {
        "id": "0HTl-3BgJ_hJ"
      },
      "execution_count": 12,
      "outputs": []
    },
    {
      "cell_type": "markdown",
      "source": [
        "Load web07 cache"
      ],
      "metadata": {
        "id": "gSKGI-WnI3wN"
      }
    },
    {
      "cell_type": "code",
      "source": [
        "with open(path_web07, 'rb') as file:\n",
        "    data = file.read(4) # integer = 4 x bytes\n",
        "    web07 = []\n",
        "    while data:\n",
        "      web07.append(int.from_bytes(data, \"big\"))\n",
        "      data = file.read(4)"
      ],
      "metadata": {
        "id": "IECm1uVHJZFt"
      },
      "execution_count": 3,
      "outputs": []
    },
    {
      "cell_type": "code",
      "source": [
        "with open(path_web12, 'rb') as file:\n",
        "    data = file.read(4) # integer = 4 x bytes\n",
        "    web12 = []\n",
        "    while data:\n",
        "      web12.append(int.from_bytes(data, \"big\"))\n",
        "      data = file.read(4)"
      ],
      "metadata": {
        "id": "IhFavjf4wLVl"
      },
      "execution_count": 13,
      "outputs": []
    },
    {
      "cell_type": "markdown",
      "source": [
        "Block Cache Dataset Totals Keys vs Unique Keys"
      ],
      "metadata": {
        "id": "3vkX0dPwKzZz"
      }
    },
    {
      "cell_type": "code",
      "source": [
        "print(len(web07),'->',len(set(web07)))"
      ],
      "metadata": {
        "colab": {
          "base_uri": "https://localhost:8080/"
        },
        "id": "laIEr-MBKyDF",
        "outputId": "71aca0ff-02d6-492a-aa11-f9ce81b9ba72"
      },
      "execution_count": 4,
      "outputs": [
        {
          "output_type": "stream",
          "name": "stdout",
          "text": [
            "76118 -> 20484\n"
          ]
        }
      ]
    },
    {
      "cell_type": "code",
      "source": [
        "print(len(web12),'->',len(set(web12)))"
      ],
      "metadata": {
        "colab": {
          "base_uri": "https://localhost:8080/"
        },
        "id": "bip6sposwTxd",
        "outputId": "62cc3819-dcaf-46f9-a3a9-ef11ba7e17ce"
      },
      "execution_count": 14,
      "outputs": [
        {
          "output_type": "stream",
          "name": "stdout",
          "text": [
            "95607 -> 13756\n"
          ]
        }
      ]
    },
    {
      "cell_type": "code",
      "source": [
        "\n",
        "columns=['time','key','key_size','value_size','client_id','operation','TTL']\n",
        "cluster052 = pd.read_csv(path_cluster052, sep=',', on_bad_lines='skip', names=columns)"
      ],
      "metadata": {
        "id": "CCF7NJ2AJCoo"
      },
      "execution_count": 5,
      "outputs": []
    },
    {
      "cell_type": "markdown",
      "source": [
        "Page Cache Dataset Totals Keys vs Unique Keys"
      ],
      "metadata": {
        "id": "XNG_Q5nfLgyA"
      }
    },
    {
      "cell_type": "code",
      "source": [
        "print(cluster052['key'].count(),'->',cluster052['key'].unique().size)"
      ],
      "metadata": {
        "colab": {
          "base_uri": "https://localhost:8080/"
        },
        "id": "Lwh2YOfULSP1",
        "outputId": "6f5cad62-e76d-4978-b727-96e47d145fd1"
      },
      "execution_count": 6,
      "outputs": [
        {
          "output_type": "stream",
          "name": "stdout",
          "text": [
            "1000000 -> 255333\n"
          ]
        }
      ]
    },
    {
      "cell_type": "code",
      "source": [
        "import random\n",
        "\n",
        "from lru_cache import LRUCache\n",
        "\n",
        "def generate_workload(num_requests, num_unique_keys):\n",
        "    workload = []\n",
        "    keys = list(range(num_unique_keys))\n",
        "    for _ in range(num_requests):\n",
        "        key = random.choice(keys)\n",
        "        workload.append(key)\n",
        "    return workload\n",
        "\n",
        "def cache_benchmark(cache, workload):\n",
        "    hits = 0\n",
        "    misses = 0\n",
        "    for key in workload:\n",
        "        if cache.get(key) is not None:\n",
        "            hits += 1\n",
        "        else:\n",
        "            cache.put(key, key)\n",
        "            misses += 1\n",
        "    hit_rate = hits / len(workload)\n",
        "    miss_rate = misses / len(workload)\n",
        "    return hit_rate, miss_rate\n",
        "\n",
        "# Example usage\n",
        "cache_capacity = 3000\n",
        "num_requests = 95607\n",
        "num_unique_keys = 13756\n",
        "\n",
        "cache = LRUCache(cache_capacity)\n",
        "# workload = generate_workload(num_requests, num_unique_keys)\n",
        "\n",
        "hit_rate, miss_rate = cache_benchmark(cache, web12)\n",
        "\n",
        "print(\"Cache hit rate:\", hit_rate)\n",
        "print(\"Cache miss rate:\", miss_rate)"
      ],
      "metadata": {
        "colab": {
          "base_uri": "https://localhost:8080/"
        },
        "id": "52Ofv_YwqHd5",
        "outputId": "f2b9889b-95d4-4463-8b03-fcd1e428ec8f"
      },
      "execution_count": 15,
      "outputs": [
        {
          "output_type": "stream",
          "name": "stdout",
          "text": [
            "Cache hit rate: 0.7648498540901817\n",
            "Cache miss rate: 0.2351501459098183\n"
          ]
        }
      ]
    }
  ]
}